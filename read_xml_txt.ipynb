{
 "cells": [
  {
   "attachments": {},
   "cell_type": "markdown",
   "metadata": {},
   "source": [
    "# Este archivo contiene el código necesario para poder leer los ficheros xml y txt.Debido a que este contenido aún no se ha visto en clase, pero se verá a lo largo del módulo 1"
   ]
  },
  {
   "attachments": {},
   "cell_type": "markdown",
   "metadata": {},
   "source": [
    "## Lectura del fichero XML\n",
    "\n",
    "Nos devuelve una lista que contiene diccionarios con los diferentes elementos del archivo xml.\n",
    "\n",
    "Ejemplo:\n",
    "\n",
    "[{'level_0': 1, 'index': 1'time': 784, 'age': '50-54', 'gender': '0' },\n",
    " {'level_0': 2, 'index': 2'time': 924, 'age': '22-24', 'gender': '0'},\n",
    " {'level_0': 2, 'index': 2'time': 575, 'age': '45-49', 'gender': '0'},\n",
    " {'level_0': 2, 'index': 2'time': 781, 'age': '45-49', 'gender': '0'}\n",
    " {'level_0': 2, 'index': 2'time': 1020, 'age': '25-29', 'gender': '1'}]\n",
    "\n",
    "\n",
    "> Recomendación: Aprender a tratar los datos de un elemento del diccionario, antes de intentar aplicarlo a todos los datos del fichero xml."
   ]
  },
  {
   "cell_type": "code",
   "execution_count": 52,
   "metadata": {},
   "outputs": [],
   "source": [
    "import re\n",
    "import os\n",
    "import xml.etree.ElementTree as ET\n",
    "import mysql.connector"
   ]
  },
  {
   "cell_type": "code",
   "execution_count": 28,
   "metadata": {},
   "outputs": [],
   "source": [
    "class Archivo_Xml:\n",
    "    def __init__(self,ruta):\n",
    "        self.ruta = ruta\n",
    "        \n",
    "    def apertura_xml(self,archivo_xml):\n",
    "    \n",
    "        tree = ET.parse(self.ruta+archivo_xml)\n",
    "        root = tree.getroot()\n",
    "\n",
    "        xml_list = []\n",
    "        for child in root:\n",
    "            xml_dict = {}\n",
    "            for subchild in child:\n",
    "                xml_dict[subchild.tag] = subchild.text\n",
    "            xml_list.append(xml_dict)\n",
    "        \n",
    "        return xml_list\n",
    "\n",
    "    def procesado_xml(self,archivo_xml):\n",
    "        for fila in xml_list:\n",
    "            if fila['gender'] == '0':\n",
    "                fila['gender'] = 'Man'\n",
    "            elif fila['gender'] == '1':\n",
    "                fila['gender'] = 'Woman'\n",
    "            elif fila['gender'] == '2':\n",
    "                fila['gender'] = 'Nonbinary'\n",
    "            elif fila['gender'] == '3':\n",
    "                fila['gender'] = 'Prefer not to say'\n",
    "            elif fila['gender'] == '4':\n",
    "                fila['gender'] = 'Prefer to self-describe'\n",
    "\n",
    "        for fila in xml_list:\n",
    "            if 'level_0' in fila:\n",
    "                fila.pop('level_0')\n",
    "            else:\n",
    "                pass\n",
    "            \n",
    "        return xml_list\n",
    "    \n",
    "    def creacion_tabla(self,archivo_xml):\n",
    "        lista_tupla = []\n",
    "        for linea in archivo_xml:\n",
    "            lista_tupla.append(tuple(linea.values()))\n",
    "            \n",
    "        return lista_tupla   "
   ]
  },
  {
   "cell_type": "code",
   "execution_count": 29,
   "metadata": {},
   "outputs": [],
   "source": [
    "archivo_xml = Archivo_Xml('/mnt/c/users/crist/Adalab/módulo1/promoE-modulo1-proyecto-equipo3-AnaAnaLourdesCris/')"
   ]
  },
  {
   "cell_type": "code",
   "execution_count": 31,
   "metadata": {},
   "outputs": [],
   "source": [
    "xml_list = archivo_xml.apertura_xml('data_xml.xml')"
   ]
  },
  {
   "cell_type": "code",
   "execution_count": 32,
   "metadata": {},
   "outputs": [],
   "source": [
    "xml_list = archivo_xml.procesado_xml(xml_list)"
   ]
  },
  {
   "cell_type": "code",
   "execution_count": 33,
   "metadata": {},
   "outputs": [],
   "source": [
    "resultado_xml = archivo_xml.creacion_tabla(xml_list)"
   ]
  },
  {
   "attachments": {},
   "cell_type": "markdown",
   "metadata": {},
   "source": [
    "## Lectura del fichero TXT\n",
    "\n",
    "Nos devuelve una lista que contiene todos los elementos del archivo txt, cada elemento de la lista se toma como un único string. Cada elemento de la lista termina con \\n\n",
    "\n",
    "Ejemplo:\n",
    "\n",
    "['index_sql;Q3;Q4;Q5;Q6;Q7;Q8;Q9;Q11;Q12;Q13;Q14;Q15;Q16;Q17;Q20;Q21;Q22;Q23;Q24;Q25;Q26;Q32;Q33;Q34;Q35;Q41\\n',\n",
    " '1;Indonesia;Master’s degree;Program/Project Manager;20+ years;null, SQL, C, C++, Java;Python;null,   Notepad++  ,  Jupyter Notebook;A cloud computing platform (AWS, Azure, GCP, hosted notebooks, etc);null, None;Never; Matplotlib ;Under 1 year;  Scikit-learn ;Linear or Logistic Regression, Decision Trees or Random Forests;Manufacturing/Fabrication;1000-9,999 employees;1-2;We are exploring ML methods (and may one day put a model into production);null, Build and/or run the data infrastructure that my business uses for storing, analyzing, and operationalizing data;60,000-69,999;$0 ($USD);;;;;Advanced statistical software (SPSS, SAS, etc.)\\n',\n",
    " '2;Pakistan;Master’s degree;Software Engineer;1-3 years;Python, C++, Java;Python;null,  PyCharm ,  Jupyter Notebook, Other;A laptop;null, Other;Never; Matplotlib ;I do not use machine learning methods;;;Academics/Education;1000-9,999 employees;0;I do not know;null, None of these activities are an important part of my role at work;$0-999;$0 ($USD);MySQL , MongoDB ;MySQL ;null, None;;Basic statistical software (Microsoft Excel, Google Sheets, etc.)\\n',\n",
    " '3;Mexico;Doctoral degree;Research Scientist;20+ years;Python;Python;null,   Spyder  ,  Jupyter Notebook;A cloud computing platform (AWS, Azure, GCP, hosted notebooks, etc); NVIDIA GPUs ;More than 25 times; Matplotlib ;5-10 years;  Scikit-learn ,   TensorFlow ,  Keras ;null, Dense Neural Networks (MLPs, etc), Convolutional Neural Networks, Recurrent Neural Networks;Academics/Education;1000-9,999 employees;0;I do not know;null, Do research that advances the state of the art of machine learning;30,000-39,999;$0 ($USD);;;;;Local development environments (RStudio, JupyterLab, etc.)\\n',\n",
    "\n",
    "\n",
    "> Recomendación: Aprender a tratar los datos de algunos de los elementos de la lista, antes de intentar aplicarlo a todos los datos del fichero txt.\n",
    " - Primer elemento de la lista:\n",
    "    lista[0] = 'index_sql;Q3;Q4;Q5;Q6;Q7;Q8;Q9;Q11;Q12;Q13;Q14;Q15;Q16;Q17;Q20;Q21;Q22;Q23;Q24;Q25;Q26;Q32;Q33;Q34;Q35;Q41\\n'"
   ]
  },
  {
   "cell_type": "code",
   "execution_count": 37,
   "metadata": {},
   "outputs": [],
   "source": [
    "class Archivo_Txt:\n",
    "    def __init__(self,ruta):\n",
    "        self.ruta = ruta\n",
    "    \n",
    "    def apertura_txt(self, archivo_txt):\n",
    "        with open(archivo_txt,'r') as file:\n",
    "            file_source = file.readlines()\n",
    "        return file_source\n",
    "    \n",
    "    def procesado_txt(self, archivo_txt):\n",
    "        lista_source = [archivo_txt]\n",
    "        file_limpio = []\n",
    "\n",
    "        for lista in lista_source:\n",
    "            for campo in lista:\n",
    "                file_limpio.append(campo.replace(\"\\n\", \"\").replace(\"null\", \"NULL\").replace(\"<\",\"under\").replace(\"   \",\" \").replace(\"  \",\" \").replace(\" ,\",\",\").strip())\n",
    "        \n",
    "        return file_limpio\n",
    "    \n",
    "    def creacion_tabla_txt(self, archivo_txt):\n",
    "        lista_tupla = []\n",
    "        for linea in archivo_txt:\n",
    "            lista_tupla.append(tuple(linea.split(\";\")))\n",
    "            \n",
    "        return lista_tupla"
   ]
  },
  {
   "cell_type": "code",
   "execution_count": 38,
   "metadata": {},
   "outputs": [],
   "source": [
    "archivo_txt = Archivo_Txt('/mnt/c/Users/aseoa/OneDrive/Escritorio/Adalab/proyectos/promoE-modulo1-proyecto-equipo3-AnaAnaLourdesCris/')"
   ]
  },
  {
   "cell_type": "code",
   "execution_count": 39,
   "metadata": {},
   "outputs": [],
   "source": [
    "file_source = archivo_txt.apertura_txt('data_txt.txt')"
   ]
  },
  {
   "cell_type": "code",
   "execution_count": 40,
   "metadata": {},
   "outputs": [],
   "source": [
    "file_source = archivo_txt.procesado_txt(file_source)"
   ]
  },
  {
   "cell_type": "code",
   "execution_count": 45,
   "metadata": {},
   "outputs": [],
   "source": [
    "resultado_txt = archivo_txt.creacion_tabla_txt(file_source)[1:]"
   ]
  },
  {
   "cell_type": "markdown",
   "metadata": {},
   "source": [
    "#### Inserción de valores en la base de datos"
   ]
  },
  {
   "cell_type": "code",
   "execution_count": null,
   "metadata": {},
   "outputs": [],
   "source": [
    "cnx = mysql.connector.connect(user='root', password='AlumnaAdalab',\n",
    "                              host='127.0.0.1', database='adalab')\n",
    "\n",
    "\n",
    "mycursor = cnx.cursor()\n",
    "\n",
    "sql = \"\"\"INSERT INTO xml (index_xml, time, age, gender)\n",
    "         VALUES (%s, %s, %s, %s)\"\"\"\n",
    "val = resultado_xml\n",
    "\n",
    "try: \n",
    "    mycursor.executemany(sql, val)\n",
    "    cnx.commit()\n",
    "    print(mycursor.rowcount, \"registro/s insertado/s.\")\n",
    "\n",
    "except mysql.connector.Error as err:\n",
    "    print(err)\n",
    "    print(\"Error Code:\", err.errno)\n",
    "    print(\"SQLSTATE\", err.sqlstate)\n",
    "    print(\"Message\", err.msg)"
   ]
  },
  {
   "cell_type": "code",
   "execution_count": null,
   "metadata": {},
   "outputs": [],
   "source": [
    "\n",
    "cnx = mysql.connector.connect(user='root', password='AlumnaAdalab',\n",
    "                              host='127.0.0.1', database='adalab')\n",
    "\n",
    "\n",
    "mycursor = cnx.cursor()\n",
    "\n",
    "sql = \"\"\"INSERT INTO txt (index_txt, q3, q4, q5, q6, q7, q8, q9, q11, q12, q13, q14, q15, q16, q17, q20, q21, q22, q23, q24, q25, q26,\n",
    "                      q32, q33, q34, q35, q41)\n",
    "         VALUES (%s, %s, %s, %s, %s, %s, %s, %s, %s, %s, %s, %s, %s, %s, %s, %s, %s, %s, %s, %s, %s, %s, %s, %s, %s, %s, %s)\"\"\"\n",
    "val = resultado_txt\n",
    "\n",
    "try: \n",
    "    mycursor.executemany(sql, val)\n",
    "    cnx.commit()\n",
    "    print(mycursor.rowcount, \"registro/s insertado/s.\")\n",
    "\n",
    "except mysql.connector.Error as err:\n",
    "    print(err)\n",
    "    print(\"Error Code:\", err.errno)\n",
    "    print(\"SQLSTATE\", err.sqlstate)\n",
    "    print(\"Message\", err.msg)"
   ]
  }
 ],
 "metadata": {
  "kernelspec": {
   "display_name": "base",
   "language": "python",
   "name": "python3"
  },
  "language_info": {
   "codemirror_mode": {
    "name": "ipython",
    "version": 3
   },
   "file_extension": ".py",
   "mimetype": "text/x-python",
   "name": "python",
   "nbconvert_exporter": "python",
   "pygments_lexer": "ipython3",
   "version": "3.9.7"
  },
  "orig_nbformat": 4
 },
 "nbformat": 4,
 "nbformat_minor": 2
}
